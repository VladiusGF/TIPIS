{
  "nbformat": 4,
  "nbformat_minor": 0,
  "metadata": {
    "colab": {
      "provenance": []
    },
    "kernelspec": {
      "name": "python3",
      "display_name": "Python 3"
    },
    "language_info": {
      "name": "python"
    }
  },
  "cells": [
    {
      "cell_type": "code",
      "execution_count": 1,
      "metadata": {
        "id": "5P7Fh3mP9El9"
      },
      "outputs": [],
      "source": [
        "import pandas as pd\n",
        "from sklearn.model_selection import train_test_split\n",
        "from sklearn.feature_extraction import DictVectorizer\n",
        "from sklearn.tree import DecisionTreeRegressor\n",
        "from sklearn.metrics import mean_squared_error\n",
        "df = pd.read_csv('sample_data/jamb_exam_results.csv')\n",
        "df.columns = df.columns.str.lower().str.replace(' ', '_')\n",
        "df = df.drop(columns=['student_id'])\n",
        "df = df.fillna(0)\n",
        "train_data, temp_data = train_test_split(df, test_size=0.4, random_state=1)\n",
        "val_data, test_data = train_test_split(temp_data, test_size=0.5, random_state=1)"
      ]
    },
    {
      "cell_type": "markdown",
      "source": [
        "# Вопрос 1: Какой признак используется для разбиения данных?"
      ],
      "metadata": {
        "id": "P6kOp3AE-Pnk"
      }
    },
    {
      "cell_type": "code",
      "source": [
        "train_dicts = train_data.drop(columns=['jamb_score']).to_dict(orient='records')\n",
        "val_dicts = val_data.drop(columns=['jamb_score']).to_dict(orient='records')\n",
        "test_dicts = test_data.drop(columns=['jamb_score']).to_dict(orient='records')\n",
        "\n",
        "dv = DictVectorizer(sparse=True)\n",
        "\n",
        "X_train = dv.fit_transform(train_dicts)\n",
        "X_val = dv.transform(val_dicts)\n",
        "X_test = dv.transform(test_dicts)\n",
        "\n",
        "y_train = train_data['jamb_score'].values\n",
        "y_val = val_data['jamb_score'].values\n",
        "y_test = test_data['jamb_score'].values\n",
        "model = DecisionTreeRegressor(max_depth=1, random_state=1)\n",
        "model.fit(X_train, y_train)\n",
        "\n",
        "y_pred = model.predict(X_val)\n",
        "rmse = mean_squared_error(y_val, y_pred, squared=False)\n",
        "\n",
        "print(f\"RMSE на валидационной выборке: {rmse}\")"
      ],
      "metadata": {
        "colab": {
          "base_uri": "https://localhost:8080/"
        },
        "id": "G1Npro14-kas",
        "outputId": "222f1725-a85b-4539-aadf-d1f15e5e5650"
      },
      "execution_count": 4,
      "outputs": [
        {
          "output_type": "stream",
          "name": "stdout",
          "text": [
            "RMSE на валидационной выборке: 44.85913145740971\n"
          ]
        },
        {
          "output_type": "stream",
          "name": "stderr",
          "text": [
            "/usr/local/lib/python3.10/dist-packages/sklearn/metrics/_regression.py:492: FutureWarning: 'squared' is deprecated in version 1.4 and will be removed in 1.6. To calculate the root mean squared error, use the function'root_mean_squared_error'.\n",
            "  warnings.warn(\n"
          ]
        }
      ]
    },
    {
      "cell_type": "markdown",
      "source": [
        "Ответ: Study_hours_per_week"
      ],
      "metadata": {
        "id": "6-svNpL8-vS3"
      }
    },
    {
      "cell_type": "markdown",
      "source": [
        "# Вопрос 2: Какое значение RMSE у этой модели на валидационных данных?"
      ],
      "metadata": {
        "id": "L90RdHFc-wMJ"
      }
    },
    {
      "cell_type": "code",
      "source": [
        "from sklearn.ensemble import RandomForestRegressor\n",
        "\n",
        "rf_model = RandomForestRegressor(n_estimators=10, random_state=1, n_jobs=-1)\n",
        "rf_model.fit(X_train, y_train)\n",
        "\n",
        "y_pred_rf = rf_model.predict(X_val)\n",
        "rmse_rf = mean_squared_error(y_val, y_pred_rf, squared=False)\n",
        "\n",
        "print(f\"RMSE случайного леса на валидационных данных: {rmse_rf:.2f}\")"
      ],
      "metadata": {
        "colab": {
          "base_uri": "https://localhost:8080/"
        },
        "id": "0gjX1Guv-y9W",
        "outputId": "de62fb88-7465-4df9-dfbc-fbe2b7fe305f"
      },
      "execution_count": 5,
      "outputs": [
        {
          "output_type": "stream",
          "name": "stdout",
          "text": [
            "RMSE случайного леса на валидационных данных: 43.16\n"
          ]
        },
        {
          "output_type": "stream",
          "name": "stderr",
          "text": [
            "/usr/local/lib/python3.10/dist-packages/sklearn/metrics/_regression.py:492: FutureWarning: 'squared' is deprecated in version 1.4 and will be removed in 1.6. To calculate the root mean squared error, use the function'root_mean_squared_error'.\n",
            "  warnings.warn(\n"
          ]
        }
      ]
    },
    {
      "cell_type": "markdown",
      "source": [
        "Ближайший ответ: 42.13"
      ],
      "metadata": {
        "id": "CNMnfI-1_WDp"
      }
    },
    {
      "cell_type": "markdown",
      "source": [
        "# Вопрос 3: После какого значения n_estimators RMSE перестает улучшаться?\n",
        "# Вопрос 4: Какое значение max_depth оказалось лучшим по среднему RMSE?"
      ],
      "metadata": {
        "id": "AQ8s-64K_Za1"
      }
    },
    {
      "cell_type": "code",
      "source": [
        "import numpy as np\n",
        "\n",
        "rmse_values = []\n",
        "n_estimators_range = range(10, 201, 10)\n",
        "\n",
        "for n in n_estimators_range:\n",
        "    rf_model = RandomForestRegressor(n_estimators=n, random_state=1, n_jobs=-1)\n",
        "    rf_model.fit(X_train, y_train)\n",
        "    y_pred_rf = rf_model.predict(X_val)\n",
        "    rmse = mean_squared_error(y_val, y_pred_rf, squared=False)\n",
        "    rmse_values.append(rmse)\n",
        "\n",
        "rmse_values = np.array(rmse_values)\n",
        "optimal_n_estimators = n_estimators_range[np.argmin(rmse_values)]"
      ],
      "metadata": {
        "colab": {
          "base_uri": "https://localhost:8080/"
        },
        "id": "bR5QJzdb_enD",
        "outputId": "d91207b6-7824-4578-bd9e-e24452ffa666"
      },
      "execution_count": 6,
      "outputs": [
        {
          "output_type": "stream",
          "name": "stderr",
          "text": [
            "/usr/local/lib/python3.10/dist-packages/sklearn/metrics/_regression.py:492: FutureWarning: 'squared' is deprecated in version 1.4 and will be removed in 1.6. To calculate the root mean squared error, use the function'root_mean_squared_error'.\n",
            "  warnings.warn(\n",
            "/usr/local/lib/python3.10/dist-packages/sklearn/metrics/_regression.py:492: FutureWarning: 'squared' is deprecated in version 1.4 and will be removed in 1.6. To calculate the root mean squared error, use the function'root_mean_squared_error'.\n",
            "  warnings.warn(\n",
            "/usr/local/lib/python3.10/dist-packages/sklearn/metrics/_regression.py:492: FutureWarning: 'squared' is deprecated in version 1.4 and will be removed in 1.6. To calculate the root mean squared error, use the function'root_mean_squared_error'.\n",
            "  warnings.warn(\n",
            "/usr/local/lib/python3.10/dist-packages/sklearn/metrics/_regression.py:492: FutureWarning: 'squared' is deprecated in version 1.4 and will be removed in 1.6. To calculate the root mean squared error, use the function'root_mean_squared_error'.\n",
            "  warnings.warn(\n",
            "/usr/local/lib/python3.10/dist-packages/sklearn/metrics/_regression.py:492: FutureWarning: 'squared' is deprecated in version 1.4 and will be removed in 1.6. To calculate the root mean squared error, use the function'root_mean_squared_error'.\n",
            "  warnings.warn(\n",
            "/usr/local/lib/python3.10/dist-packages/sklearn/metrics/_regression.py:492: FutureWarning: 'squared' is deprecated in version 1.4 and will be removed in 1.6. To calculate the root mean squared error, use the function'root_mean_squared_error'.\n",
            "  warnings.warn(\n",
            "/usr/local/lib/python3.10/dist-packages/sklearn/metrics/_regression.py:492: FutureWarning: 'squared' is deprecated in version 1.4 and will be removed in 1.6. To calculate the root mean squared error, use the function'root_mean_squared_error'.\n",
            "  warnings.warn(\n",
            "/usr/local/lib/python3.10/dist-packages/sklearn/metrics/_regression.py:492: FutureWarning: 'squared' is deprecated in version 1.4 and will be removed in 1.6. To calculate the root mean squared error, use the function'root_mean_squared_error'.\n",
            "  warnings.warn(\n",
            "/usr/local/lib/python3.10/dist-packages/sklearn/metrics/_regression.py:492: FutureWarning: 'squared' is deprecated in version 1.4 and will be removed in 1.6. To calculate the root mean squared error, use the function'root_mean_squared_error'.\n",
            "  warnings.warn(\n",
            "/usr/local/lib/python3.10/dist-packages/sklearn/metrics/_regression.py:492: FutureWarning: 'squared' is deprecated in version 1.4 and will be removed in 1.6. To calculate the root mean squared error, use the function'root_mean_squared_error'.\n",
            "  warnings.warn(\n",
            "/usr/local/lib/python3.10/dist-packages/sklearn/metrics/_regression.py:492: FutureWarning: 'squared' is deprecated in version 1.4 and will be removed in 1.6. To calculate the root mean squared error, use the function'root_mean_squared_error'.\n",
            "  warnings.warn(\n",
            "/usr/local/lib/python3.10/dist-packages/sklearn/metrics/_regression.py:492: FutureWarning: 'squared' is deprecated in version 1.4 and will be removed in 1.6. To calculate the root mean squared error, use the function'root_mean_squared_error'.\n",
            "  warnings.warn(\n",
            "/usr/local/lib/python3.10/dist-packages/sklearn/metrics/_regression.py:492: FutureWarning: 'squared' is deprecated in version 1.4 and will be removed in 1.6. To calculate the root mean squared error, use the function'root_mean_squared_error'.\n",
            "  warnings.warn(\n",
            "/usr/local/lib/python3.10/dist-packages/sklearn/metrics/_regression.py:492: FutureWarning: 'squared' is deprecated in version 1.4 and will be removed in 1.6. To calculate the root mean squared error, use the function'root_mean_squared_error'.\n",
            "  warnings.warn(\n",
            "/usr/local/lib/python3.10/dist-packages/sklearn/metrics/_regression.py:492: FutureWarning: 'squared' is deprecated in version 1.4 and will be removed in 1.6. To calculate the root mean squared error, use the function'root_mean_squared_error'.\n",
            "  warnings.warn(\n",
            "/usr/local/lib/python3.10/dist-packages/sklearn/metrics/_regression.py:492: FutureWarning: 'squared' is deprecated in version 1.4 and will be removed in 1.6. To calculate the root mean squared error, use the function'root_mean_squared_error'.\n",
            "  warnings.warn(\n",
            "/usr/local/lib/python3.10/dist-packages/sklearn/metrics/_regression.py:492: FutureWarning: 'squared' is deprecated in version 1.4 and will be removed in 1.6. To calculate the root mean squared error, use the function'root_mean_squared_error'.\n",
            "  warnings.warn(\n",
            "/usr/local/lib/python3.10/dist-packages/sklearn/metrics/_regression.py:492: FutureWarning: 'squared' is deprecated in version 1.4 and will be removed in 1.6. To calculate the root mean squared error, use the function'root_mean_squared_error'.\n",
            "  warnings.warn(\n",
            "/usr/local/lib/python3.10/dist-packages/sklearn/metrics/_regression.py:492: FutureWarning: 'squared' is deprecated in version 1.4 and will be removed in 1.6. To calculate the root mean squared error, use the function'root_mean_squared_error'.\n",
            "  warnings.warn(\n",
            "/usr/local/lib/python3.10/dist-packages/sklearn/metrics/_regression.py:492: FutureWarning: 'squared' is deprecated in version 1.4 and will be removed in 1.6. To calculate the root mean squared error, use the function'root_mean_squared_error'.\n",
            "  warnings.warn(\n"
          ]
        }
      ]
    },
    {
      "cell_type": "code",
      "source": [
        "print(f\"n_estimators: {optimal_n_estimators}\")"
      ],
      "metadata": {
        "colab": {
          "base_uri": "https://localhost:8080/"
        },
        "id": "WiP6DyjyAiwJ",
        "outputId": "0e2c6df8-9f7a-462e-dbc7-aad6a7c530b2"
      },
      "execution_count": 8,
      "outputs": [
        {
          "output_type": "stream",
          "name": "stdout",
          "text": [
            "n_estimators: 180\n"
          ]
        }
      ]
    },
    {
      "cell_type": "markdown",
      "source": [
        "Ближе к ответу 200, по среднему лучшим было значение 10"
      ],
      "metadata": {
        "id": "kTvRQMRNAnhh"
      }
    },
    {
      "cell_type": "markdown",
      "source": [
        "# Вопрос 5. Какой признак оказался самым важным (из этих четырех)?"
      ],
      "metadata": {
        "id": "0O-BbEsrA1RK"
      }
    },
    {
      "cell_type": "code",
      "source": [
        "rf_model = RandomForestRegressor(n_estimators=10, max_depth=20, random_state=1, n_jobs=-1)\n",
        "rf_model.fit(X_train, y_train)\n",
        "\n",
        "importances = rf_model.feature_importances_\n",
        "feature_names = dv.get_feature_names_out()\n",
        "\n",
        "important_features = sorted(zip(importances, feature_names), reverse=True)\n",
        "most_important_feature = important_features[0]\n",
        "\n",
        "print(f\"Самый важный признак: {most_important_feature[1]}, Важность: {most_important_feature[0]:.3f}\")"
      ],
      "metadata": {
        "colab": {
          "base_uri": "https://localhost:8080/"
        },
        "id": "CHit1zKpA3mD",
        "outputId": "225c5881-9c71-4fa9-ca9e-7b351b94b662"
      },
      "execution_count": 9,
      "outputs": [
        {
          "output_type": "stream",
          "name": "stdout",
          "text": [
            "Самый важный признак: study_hours_per_week, Важность: 0.254\n"
          ]
        }
      ]
    },
    {
      "cell_type": "markdown",
      "source": [
        "# Вопрос 6: Какое значение eta приводит к лучшему значению RMSE на валидационном наборе данных?"
      ],
      "metadata": {
        "id": "cuL_Tkp1BF6I"
      }
    },
    {
      "cell_type": "code",
      "source": [
        "import xgboost as xgb\n",
        "from xgboost import DMatrix\n",
        "\n",
        "dtrain = xgb.DMatrix(X_train, label=y_train)\n",
        "dval = xgb.DMatrix(X_val, label=y_val)\n",
        "\n",
        "watchlist = [(dtrain, 'train'), (dval, 'validation')]\n",
        "\n",
        "def train_xgb(eta):\n",
        "    xgb_params = {\n",
        "        'eta': eta,\n",
        "        'max_depth': 6,\n",
        "        'min_child_weight': 1,\n",
        "        'objective': 'reg:squarederror',\n",
        "        'nthread': 8,\n",
        "        'seed': 1,\n",
        "        'verbosity': 1,\n",
        "    }\n",
        "\n",
        "    model = xgb.train(params=xgb_params, dtrain=dtrain, num_boost_round=100, evals=watchlist, early_stopping_rounds=10, verbose_eval=False)\n",
        "    return model\n",
        "\n",
        "model_eta_03 = train_xgb(eta=0.3)\n",
        "model_eta_01 = train_xgb(eta=0.1)\n",
        "\n",
        "rmse_eta_03 = model_eta_03.best_score\n",
        "rmse_eta_01 = model_eta_01.best_score\n",
        "\n",
        "print(f\"RMSE при eta=0.3: {rmse_eta_03:.3f}\")\n",
        "print(f\"RMSE при eta=0.1: {rmse_eta_01:.3f}\")\n",
        "\n",
        "if rmse_eta_01 < rmse_eta_03:\n",
        "    print(\"Лучшее: 0.1\")\n",
        "elif rmse_eta_01 > rmse_eta_03:\n",
        "    print(\"Лучшее: 0.3\")\n",
        "else:\n",
        "    print(\"Одинаково\")"
      ],
      "metadata": {
        "colab": {
          "base_uri": "https://localhost:8080/"
        },
        "id": "soi2yCKPBG38",
        "outputId": "74955f65-f7ff-46b6-ec04-0747ec5a6ba3"
      },
      "execution_count": 11,
      "outputs": [
        {
          "output_type": "stream",
          "name": "stdout",
          "text": [
            "RMSE при eta=0.3: 40.688\n",
            "RMSE при eta=0.1: 40.166\n",
            "Лучшее: 0.1\n"
          ]
        }
      ]
    },
    {
      "cell_type": "markdown",
      "source": [
        "1. Study_hours_per_week\n",
        "2. 42.13\n",
        "3. 200\n",
        "4. 10\n",
        "5. study_hours_per_week\n",
        "6. 0,1"
      ],
      "metadata": {
        "id": "mH98o1PkBUSd"
      }
    }
  ]
}