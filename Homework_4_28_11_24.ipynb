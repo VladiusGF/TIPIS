{
  "nbformat": 4,
  "nbformat_minor": 0,
  "metadata": {
    "colab": {
      "provenance": []
    },
    "kernelspec": {
      "name": "python3",
      "display_name": "Python 3"
    },
    "language_info": {
      "name": "python"
    }
  },
  "cells": [
    {
      "cell_type": "code",
      "execution_count": 10,
      "metadata": {
        "colab": {
          "base_uri": "https://localhost:8080/"
        },
        "id": "U2zcfZcL2K4G",
        "outputId": "01f92bd3-b885-422b-84f2-959a829a4b02"
      },
      "outputs": [
        {
          "output_type": "stream",
          "name": "stderr",
          "text": [
            "<ipython-input-10-e4bc4f083f09>:6: SettingWithCopyWarning: \n",
            "A value is trying to be set on a copy of a slice from a DataFrame.\n",
            "Try using .loc[row_indexer,col_indexer] = value instead\n",
            "\n",
            "See the caveats in the documentation: https://pandas.pydata.org/pandas-docs/stable/user_guide/indexing.html#returning-a-view-versus-a-copy\n",
            "  df['y'] = df['y'].map({'yes': 1, 'no': 0})\n"
          ]
        }
      ],
      "source": [
        "import numpy as np\n",
        "import pandas as pd\n",
        "import sklearn as sk\n",
        "df_all = pd.read_csv(\"sample_data/bank-full.csv\", sep=\";\")\n",
        "df = df_all[['age', 'job', 'marital','education','balance','housing','contact','day','month','duration','campaign','pdays','previous','poutcome','y']]\n",
        "df['y'] = df['y'].map({'yes': 1, 'no': 0})"
      ]
    },
    {
      "cell_type": "code",
      "source": [
        "from sklearn.model_selection import train_test_split\n",
        "X = df.drop(\"y\", axis = 1)\n",
        "y = df[[\"y\"]]\n",
        "X_train, X_temp, y_train, y_temp = train_test_split(X, y, test_size=0.4, random_state=1)\n",
        "X_val, X_test, y_val, y_test = train_test_split(X_temp, y_temp, test_size=0.5, random_state=1)\n",
        "\n",
        "X_train.reset_index(drop=True, inplace=True)\n",
        "X_val.reset_index(drop=True, inplace=True)\n",
        "X_test.reset_index(drop=True, inplace=True)"
      ],
      "metadata": {
        "id": "CxINAVkP2yG7"
      },
      "execution_count": 11,
      "outputs": []
    },
    {
      "cell_type": "markdown",
      "source": [
        "# Вопрос 1: Какая числовая переменная (из следующих 4) имеет наивысший AUC?"
      ],
      "metadata": {
        "id": "7tslI73P5Usm"
      }
    },
    {
      "cell_type": "code",
      "source": [
        "from sklearn.metrics import roc_auc_score\n",
        "numerical_features = df.select_dtypes(include = [\"int\", \"float\"]).columns\n",
        "auc_scores = {}\n",
        "\n",
        "for feature in numerical_features:\n",
        "  auc = roc_auc_score(df[\"y\"], df[feature])\n",
        "  if auc < 0.5:\n",
        "    auc = roc_auc_score(df[\"y\"], -df[feature])\n",
        "  auc_scores[feature] = auc\n",
        "\n",
        "auc_scores = sorted(auc_scores.items(), key=lambda x: x[1], reverse = True)\n",
        "print(auc_scores)"
      ],
      "metadata": {
        "colab": {
          "base_uri": "https://localhost:8080/"
        },
        "id": "5sC0gx5n38P1",
        "outputId": "8c4b48ec-65e2-4126-d3f9-61d4f7806aab"
      },
      "execution_count": 12,
      "outputs": [
        {
          "output_type": "stream",
          "name": "stdout",
          "text": [
            "[('y', 1.0), ('duration', 0.8075955951124923), ('previous', 0.6023034054239005), ('pdays', 0.593224032562116), ('balance', 0.590061489160812), ('campaign', 0.5723342144142696), ('day', 0.5265199356555834), ('age', 0.5078552662471552)]\n"
          ]
        }
      ]
    },
    {
      "cell_type": "markdown",
      "source": [
        "Ответ: duration"
      ],
      "metadata": {
        "id": "_20HSfpX5ZpN"
      }
    },
    {
      "cell_type": "markdown",
      "source": [
        "# Вопрос 2: Какой AUC у этой модели на валидационном наборе данных?"
      ],
      "metadata": {
        "id": "o4TCpMil5cBx"
      }
    },
    {
      "cell_type": "code",
      "source": [
        "from sklearn.linear_model import LogisticRegression\n",
        "from sklearn.feature_extraction import DictVectorizer\n",
        "from sklearn.metrics import roc_auc_score\n",
        "\n",
        "train_dict = X_train.to_dict(orient='records')\n",
        "val_dict = X_val.to_dict(orient='records')\n",
        "\n",
        "dv = DictVectorizer(sparse=False)\n",
        "X_train = dv.fit_transform(train_dict)\n",
        "X_val = dv.transform(val_dict)\n",
        "\n",
        "model = LogisticRegression(solver='liblinear', C=1.0, max_iter=1000)\n",
        "model.fit(X_train, y_train)\n",
        "\n",
        "y_pred = model.predict_proba(X_val)[:, 1]\n",
        "roc_auc = roc_auc_score(y_val, y_pred)\n",
        "\n",
        "print(roc_auc)"
      ],
      "metadata": {
        "colab": {
          "base_uri": "https://localhost:8080/"
        },
        "id": "z04_tgQt5etj",
        "outputId": "409e3164-32bf-4969-9e96-2641e2c6761b"
      },
      "execution_count": 13,
      "outputs": [
        {
          "output_type": "stream",
          "name": "stderr",
          "text": [
            "/usr/local/lib/python3.10/dist-packages/sklearn/utils/validation.py:1339: DataConversionWarning: A column-vector y was passed when a 1d array was expected. Please change the shape of y to (n_samples, ), for example using ravel().\n",
            "  y = column_or_1d(y, warn=True)\n"
          ]
        },
        {
          "output_type": "stream",
          "name": "stdout",
          "text": [
            "0.9001827055571039\n"
          ]
        }
      ]
    },
    {
      "cell_type": "markdown",
      "source": [
        "# Вопрос 3: На каком пороге precision и recall пересекаются?\n",
        "# Вопрос 4: При каком пороге F1 достигает максимума?"
      ],
      "metadata": {
        "id": "WHh9TNeB51M-"
      }
    },
    {
      "cell_type": "code",
      "source": [
        "import matplotlib.pyplot as plt\n",
        "from sklearn.metrics import precision_score, recall_score\n",
        "\n",
        "y_pred_prob = model.predict_proba(X_val)[:, 1]\n",
        "\n",
        "thresholds = np.arange(0.0, 1.01, 0.01)\n",
        "precisions = []\n",
        "recalls = []\n",
        "F1 = []\n",
        "\n",
        "for threshold in thresholds:\n",
        "    y_pred = (y_pred_prob >= threshold).astype(int)\n",
        "\n",
        "    precision = precision_score(y_val, y_pred, zero_division=0)\n",
        "    recall = recall_score(y_val, y_pred, zero_division=0)\n",
        "\n",
        "    precisions.append(precision)\n",
        "    recalls.append(recall)\n",
        "    F1.append(round(2*(precision*recall/(precision+recall)), 2))\n",
        "\n",
        "print(\"Max_threshold:\", F1.index(max(F1))/100, \"max F1:\", max(F1))\n",
        "plt.figure(figsize=(10, 6))\n",
        "plt.plot(thresholds, precisions, label='Precision', marker='o')\n",
        "plt.plot(thresholds, recalls, label='Recall', marker='o')\n",
        "plt.xlabel('Threshold')\n",
        "plt.ylabel('Score')\n",
        "plt.title('Precision and Recall vs Threshold')\n",
        "plt.legend()\n",
        "plt.grid(True)\n",
        "plt.show()\n",
        "\n",
        "for i in range(len(thresholds)):\n",
        "    if np.isclose(precisions[i], recalls[i], atol=0.01):\n",
        "        print(f\"Пересечение: {thresholds[i]:.2f}\")\n",
        "        break"
      ],
      "metadata": {
        "colab": {
          "base_uri": "https://localhost:8080/",
          "height": 633
        },
        "id": "_bRDSRsg50lI",
        "outputId": "f9ec0df6-2a26-420c-f5a4-e08f71ba428f"
      },
      "execution_count": 14,
      "outputs": [
        {
          "output_type": "stream",
          "name": "stderr",
          "text": [
            "<ipython-input-14-a8a0388c0bd5>:19: RuntimeWarning: invalid value encountered in scalar divide\n",
            "  F1.append(round(2*(precision*recall/(precision+recall)), 2))\n"
          ]
        },
        {
          "output_type": "stream",
          "name": "stdout",
          "text": [
            "Max_threshold: 0.19 max F1: 0.58\n"
          ]
        },
        {
          "output_type": "display_data",
          "data": {
            "text/plain": [
              "<Figure size 1000x600 with 1 Axes>"
            ],
            "image/png": "[encoded data removed]"
          },
          "metadata": {}
        },
        {
          "output_type": "stream",
          "name": "stdout",
          "text": [
            "Пересечение: 0.29\n"
          ]
        }
      ]
    },
    {
      "cell_type": "markdown",
      "source": [
        "F1 максимум при 0.56"
      ],
      "metadata": {
        "id": "EzWOqda067bg"
      }
    },
    {
      "cell_type": "markdown",
      "source": [
        "# Вопрос 5: Какова стандартная ошибка оценок на разных фолдах?"
      ],
      "metadata": {
        "id": "3TdRh4hk7KvV"
      }
    },
    {
      "cell_type": "code",
      "source": [
        "from sklearn.model_selection import KFold\n",
        "from sklearn.metrics import roc_auc_score\n",
        "from sklearn.feature_extraction import DictVectorizer\n",
        "from sklearn.linear_model import LogisticRegression\n",
        "import numpy as np\n",
        "\n",
        "kf = KFold(n_splits=5, shuffle=True, random_state=1)\n",
        "\n",
        "auc_scores = []\n",
        "\n",
        "for train_index, val_index in kf.split(X_train):\n",
        "    if isinstance(X_train, np.ndarray):\n",
        "        X_train_fold, X_val_fold = X_train[train_index], X_train[val_index]\n",
        "    else:\n",
        "        X_train_fold, X_val_fold = X_train.iloc[train_index], X_train.iloc[val_index]\n",
        "\n",
        "    if isinstance(y_train, np.ndarray):\n",
        "        y_train_fold, y_val_fold = y_train[train_index], y_train[val_index]\n",
        "    else:\n",
        "        y_train_fold, y_val_fold = y_train.iloc[train_index], y_train.iloc[val_index]\n",
        "\n",
        "    if isinstance(X_train_fold, np.ndarray):\n",
        "        train_dict = [dict(zip(range(X_train_fold.shape[1]), row)) for row in X_train_fold]\n",
        "        val_dict = [dict(zip(range(X_val_fold.shape[1]), row)) for row in X_val_fold]\n",
        "    else:\n",
        "        train_dict = X_train_fold.to_dict(orient='records')\n",
        "        val_dict = X_val_fold.to_dict(orient='records')\n",
        "\n",
        "    dv = DictVectorizer(sparse=False)\n",
        "    X_train_encoded = dv.fit_transform(train_dict)\n",
        "    X_val_encoded = dv.transform(val_dict)\n",
        "\n",
        "    model = LogisticRegression(solver='liblinear', C=1.0, max_iter=1000)\n",
        "    model.fit(X_train_encoded, y_train_fold)\n",
        "\n",
        "    y_pred = model.predict_proba(X_val_encoded)[:, 1]\n",
        "\n",
        "    auc = roc_auc_score(y_val_fold, y_pred)\n",
        "    auc_scores.append(auc)\n",
        "\n",
        "    print(f\"AUC на текущем фолде: {auc:.3f}\")\n",
        "\n",
        "mean_auc = np.mean(auc_scores)\n",
        "std_auc = np.std(auc_scores)\n",
        "\n",
        "se_auc = std_auc / np.sqrt(len(auc_scores))\n",
        "\n",
        "print(f\"\\nСреднее значение AUC по всем фолдам: {mean_auc:.3f}\")\n",
        "print(f\"Стандартное отклонение AUC по всем фолдам: {std_auc:.3f}\")\n",
        "print(f\"Стандартная ошибка AUC: {se_auc:.3f}\")"
      ],
      "metadata": {
        "colab": {
          "base_uri": "https://localhost:8080/"
        },
        "id": "Z4BrYQgs7OJB",
        "outputId": "c5a63b00-c095-409d-c4f9-bc12ff17b7ef"
      },
      "execution_count": 15,
      "outputs": [
        {
          "output_type": "stream",
          "name": "stderr",
          "text": [
            "/usr/local/lib/python3.10/dist-packages/sklearn/utils/validation.py:1339: DataConversionWarning: A column-vector y was passed when a 1d array was expected. Please change the shape of y to (n_samples, ), for example using ravel().\n",
            "  y = column_or_1d(y, warn=True)\n"
          ]
        },
        {
          "output_type": "stream",
          "name": "stdout",
          "text": [
            "AUC на текущем фолде: 0.909\n"
          ]
        },
        {
          "output_type": "stream",
          "name": "stderr",
          "text": [
            "/usr/local/lib/python3.10/dist-packages/sklearn/utils/validation.py:1339: DataConversionWarning: A column-vector y was passed when a 1d array was expected. Please change the shape of y to (n_samples, ), for example using ravel().\n",
            "  y = column_or_1d(y, warn=True)\n"
          ]
        },
        {
          "output_type": "stream",
          "name": "stdout",
          "text": [
            "AUC на текущем фолде: 0.914\n"
          ]
        },
        {
          "output_type": "stream",
          "name": "stderr",
          "text": [
            "/usr/local/lib/python3.10/dist-packages/sklearn/utils/validation.py:1339: DataConversionWarning: A column-vector y was passed when a 1d array was expected. Please change the shape of y to (n_samples, ), for example using ravel().\n",
            "  y = column_or_1d(y, warn=True)\n"
          ]
        },
        {
          "output_type": "stream",
          "name": "stdout",
          "text": [
            "AUC на текущем фолде: 0.902\n"
          ]
        },
        {
          "output_type": "stream",
          "name": "stderr",
          "text": [
            "/usr/local/lib/python3.10/dist-packages/sklearn/utils/validation.py:1339: DataConversionWarning: A column-vector y was passed when a 1d array was expected. Please change the shape of y to (n_samples, ), for example using ravel().\n",
            "  y = column_or_1d(y, warn=True)\n"
          ]
        },
        {
          "output_type": "stream",
          "name": "stdout",
          "text": [
            "AUC на текущем фолде: 0.904\n"
          ]
        },
        {
          "output_type": "stream",
          "name": "stderr",
          "text": [
            "/usr/local/lib/python3.10/dist-packages/sklearn/utils/validation.py:1339: DataConversionWarning: A column-vector y was passed when a 1d array was expected. Please change the shape of y to (n_samples, ), for example using ravel().\n",
            "  y = column_or_1d(y, warn=True)\n"
          ]
        },
        {
          "output_type": "stream",
          "name": "stdout",
          "text": [
            "AUC на текущем фолде: 0.910\n",
            "\n",
            "Среднее значение AUC по всем фолдам: 0.908\n",
            "Стандартное отклонение AUC по всем фолдам: 0.004\n",
            "Стандартная ошибка AUC: 0.002\n"
          ]
        }
      ]
    },
    {
      "cell_type": "markdown",
      "source": [
        "# Вопрос 6: Какое значение C приводит к лучшему среднему значению?"
      ],
      "metadata": {
        "id": "AXYdJEf77tda"
      }
    },
    {
      "cell_type": "code",
      "source": [
        "import pandas as pd\n",
        "from sklearn.model_selection import train_test_split, KFold, cross_val_score\n",
        "from sklearn.linear_model import LogisticRegression\n",
        "from sklearn.preprocessing import StandardScaler\n",
        "from sklearn.pipeline import Pipeline\n",
        "import numpy as np\n",
        "\n",
        "data = pd.read_csv('sample_data/bank-full.csv', sep=';')\n",
        "\n",
        "columns_to_keep = [\n",
        "    'age', 'job', 'marital', 'education', 'balance', 'housing', 'contact',\n",
        "    'day', 'month', 'duration', 'campaign', 'pdays', 'previous', 'poutcome', 'y'\n",
        "]\n",
        "data = data[columns_to_keep]\n",
        "\n",
        "data['y'] = data['y'].apply(lambda x: 1 if x == 'yes' else 0)\n",
        "\n",
        "data = pd.get_dummies(data, columns=['job', 'marital', 'education', 'housing', 'contact', 'month', 'poutcome'])\n",
        "\n",
        "X = data.drop(columns=['y'])\n",
        "y = data['y']\n",
        "\n",
        "X_train, X_temp, y_train, y_temp = train_test_split(X, y, test_size=0.4, random_state=1)\n",
        "\n",
        "X_val, X_test, y_val, y_test = train_test_split(X_temp, y_temp, test_size=0.5, random_state=1)\n",
        "\n",
        "kfold = KFold(n_splits=5, shuffle=True, random_state=1)\n",
        "\n",
        "C_values = [0.000001, 0.001, 1]\n",
        "\n",
        "best_C = None\n",
        "best_mean_score = -np.inf\n",
        "best_std = np.inf\n",
        "\n",
        "for C in C_values:\n",
        "    model = Pipeline([\n",
        "        ('scaler', StandardScaler()),\n",
        "        ('log_reg', LogisticRegression(solver='liblinear', C=C, max_iter=1000))\n",
        "    ])\n",
        "\n",
        "    scores = cross_val_score(model, X_train, y_train, cv=kfold, scoring='accuracy')\n",
        "    mean_score = round(scores.mean(), 3)\n",
        "    std_score = round(scores.std(), 3)\n",
        "\n",
        "    print(f'C={C}: mean={mean_score}, std={std_score}')\n",
        "\n",
        "    if mean_score > best_mean_score or (mean_score == best_mean_score and std_score < best_std):\n",
        "        best_C = C\n",
        "        best_mean_score = mean_score\n",
        "        best_std = std_score\n",
        "\n",
        "print(f'Лучшее значение C: {best_C}, средняя оценка: {best_mean_score}, стандартное отклонение: {best_std}')"
      ],
      "metadata": {
        "colab": {
          "base_uri": "https://localhost:8080/"
        },
        "id": "SqVA0lKs7uOk",
        "outputId": "fe74bde4-62eb-40f2-bbed-b087c3ed1053"
      },
      "execution_count": 16,
      "outputs": [
        {
          "output_type": "stream",
          "name": "stdout",
          "text": [
            "C=1e-06: mean=0.884, std=0.003\n",
            "C=0.001: mean=0.901, std=0.004\n",
            "C=1: mean=0.902, std=0.005\n",
            "Лучшее значение C: 1, средняя оценка: 0.902, стандартное отклонение: 0.005\n"
          ]
        }
      ]
    },
    {
      "cell_type": "markdown",
      "source": [
        "1. duration\n",
        "2. 0.9\n",
        "3. 0.29\n",
        "4. 0.56\n",
        "5. 0.002\n",
        "6. 1"
      ],
      "metadata": {
        "id": "hkjhXjxD8FOY"
      }
    }
  ]
}